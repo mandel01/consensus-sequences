{
 "cells": [
  {
   "cell_type": "markdown",
   "metadata": {},
   "source": [
    "# Basic consensus sequence analysis using Python and Biopython\n",
    "\n",
    "## Objectives\n",
    "\n",
    "1. Introduce programming concepts to analyze DNA sequences.\n",
    "2. Introduce the IPython / Jupyter notebook environment for exploratory and reproducible computing.\n",
    "3. Introduce Binder as a way to run analyses from others.\n",
    "4. Examine *E. coli* σ<sup>E</sup> promoter sequences.\n",
    "5. Analyze the σ<sup>E</sup> consensus in comparison to the σ<sup>70</sup> consensus sequence.\n"
   ]
  },
  {
   "cell_type": "markdown",
   "metadata": {},
   "source": [
    "### Some preliminaries to import some Python libraries we'll need\n",
    "\n",
    "For each of the cells below, you'll need to run the cell. To do that...\n",
    "\n",
    "1. Select the cell so it becomes active.\n",
    "2. Hold down `SHIFT` and press `ENTER`."
   ]
  },
  {
   "cell_type": "code",
   "execution_count": 1,
   "metadata": {
    "collapsed": true
   },
   "outputs": [],
   "source": [
    "from Bio import motifs\n",
    "from Bio.Seq import Seq\n",
    "from collections import OrderedDict"
   ]
  },
  {
   "cell_type": "code",
   "execution_count": 2,
   "metadata": {
    "collapsed": true
   },
   "outputs": [],
   "source": [
    "instances = [Seq('TACAA'),\n",
    "             Seq('TACGC'),\n",
    "             Seq('TACAC'),\n",
    "             Seq('TACCC'),\n",
    "             Seq('AACCC'),\n",
    "             Seq('AATGC'),\n",
    "             Seq('AATGC'),\n",
    "            ]"
   ]
  },
  {
   "cell_type": "code",
   "execution_count": 3,
   "metadata": {
    "collapsed": false
   },
   "outputs": [],
   "source": [
    "m = motifs.create(instances)"
   ]
  },
  {
   "cell_type": "code",
   "execution_count": 4,
   "metadata": {
    "collapsed": false
   },
   "outputs": [
    {
     "name": "stdout",
     "output_type": "stream",
     "text": [
      "TACAA\n",
      "TACGC\n",
      "TACAC\n",
      "TACCC\n",
      "AACCC\n",
      "AATGC\n",
      "AATGC\n",
      "\n"
     ]
    }
   ],
   "source": [
    "print(m)"
   ]
  },
  {
   "cell_type": "code",
   "execution_count": 5,
   "metadata": {
    "collapsed": false
   },
   "outputs": [
    {
     "data": {
      "text/plain": [
       "5"
      ]
     },
     "execution_count": 5,
     "metadata": {},
     "output_type": "execute_result"
    }
   ],
   "source": [
    "len(m)"
   ]
  },
  {
   "cell_type": "code",
   "execution_count": 6,
   "metadata": {
    "collapsed": false
   },
   "outputs": [
    {
     "name": "stdout",
     "output_type": "stream",
     "text": [
      "        0      1      2      3      4\n",
      "A:   3.00   7.00   0.00   2.00   1.00\n",
      "C:   0.00   0.00   5.00   2.00   6.00\n",
      "G:   0.00   0.00   0.00   3.00   0.00\n",
      "T:   4.00   0.00   2.00   0.00   0.00\n",
      "\n"
     ]
    }
   ],
   "source": [
    "print(m.counts)"
   ]
  },
  {
   "cell_type": "code",
   "execution_count": 7,
   "metadata": {
    "collapsed": false
   },
   "outputs": [
    {
     "data": {
      "text/plain": [
       "Seq('TACGC', IUPACUnambiguousDNA())"
      ]
     },
     "execution_count": 7,
     "metadata": {},
     "output_type": "execute_result"
    }
   ],
   "source": [
    "m.consensus"
   ]
  },
  {
   "cell_type": "code",
   "execution_count": 8,
   "metadata": {
    "collapsed": false
   },
   "outputs": [
    {
     "data": {
      "image/png": "[encoded data removed]",
      "text/plain": [
       "<IPython.core.display.Image object>"
      ]
     },
     "execution_count": 8,
     "metadata": {},
     "output_type": "execute_result"
    }
   ],
   "source": [
    "imagename = 'sample_logo.png'\n",
    "m.weblogo(imagename)\n",
    "from IPython.display import Image\n",
    "Image(filename=imagename) "
   ]
  },
  {
   "cell_type": "markdown",
   "metadata": {},
   "source": [
    "## Now let's apply this same approach to analyze σ<sup>E</sup> consensus sequence\n",
    "\n",
    "Using the \"significantly regulated with promoter\" dataset from [Virgil A Rhodius, et al. 2015 PLOS Biology, Table 1](http://dx.doi.org/10.1371/journal.pbio.0040002.t101)"
   ]
  },
  {
   "cell_type": "code",
   "execution_count": 9,
   "metadata": {
    "collapsed": false
   },
   "outputs": [],
   "source": [
    "# Upstream = index nucleotide for the first (of seven) nucleotides in the upstream element\n",
    "# Downstream = index nucleotide for the first (of five) nucleotides in the downstream element\n",
    "# +1 start of transcription is the last nucleotide listed (simplified analysis)\n",
    "sigmaE_promoters = {\n",
    "    'degP': {'sequence': 'GGAACTTCAGGCTATAAAACGAATCTGAAGAACAC', 'upstream': 0, 'downstream': 23,},\n",
    "    'rseP': {'sequence': 'GGAACTAAAAGCCGTAGATGGTATCGAAACGCCTG', 'upstream': 0, 'downstream': 23,},\n",
    "    'sbmA': {'sequence': 'CGAACTAAGCGCCTTGCTATGGGTCACAATGGGCG', 'upstream': 0, 'downstream': 23,},\n",
    "    'clpX': {'sequence': 'TGAACTTATGGCGCTTCATACGGGTCAATCATTAGA', 'upstream': 0, 'downstream': 24,},\n",
    "    'ybfG': {'sequence': 'GGAACTTAATATTTAAAAAATGTTCCATACAATT', 'upstream': 0, 'downstream': 23,},\n",
    "    'ompX': {'sequence': 'GAAACTCTTCGCGATTTGTGATGTCTAACGGGCCA', 'upstream': 0, 'downstream': 23,},\n",
    "    'mdoG': {'sequence': 'TGAACGATACCGGGATTCTGTTGTCGGAATGGCTG', 'upstream': 0, 'downstream': 23,},\n",
    "    'lpp': {'sequence': 'GGCACTTATTTTTGATCGTTCGCTCAAAGAAGCA', 'upstream': 0, 'downstream': 23,},\n",
    "    'yeaY': {'sequence': 'GAAACTTCCGGGCAAAGAATGAATCTTAAGAGTA', 'upstream': 0, 'downstream': 23,},\n",
    "    'sixA': {'sequence': 'GCAACTGACCTGCAATAAGAAGGTCAAAGCTATA', 'upstream': 0, 'downstream': 23,},\n",
    "    'ddg': {'sequence': 'GGAACCATTGTCGTACATGATGGCCCAACCAATTG', 'upstream': 0, 'downstream': 23,},\n",
    "    'yfeK': {'sequence': 'GAAACTTTACCTGATTCTGGCAGTCAAATCGGCTA', 'upstream': 0, 'downstream': 23,},\n",
    "    'yfgC': {'sequence': 'GGAACGATATTTCACAGTATCGGTCAAATGACTA', 'upstream': 0, 'downstream': 23,},\n",
    "    'yfgM': {'sequence': 'GGAACTTGCGCAGCAATTTGTTGACAAAAATGAA', 'upstream': 0, 'downstream': 23,},\n",
    "    'rpoE': {'sequence': 'GGAACTTTACAAAAACGAGACACTCTAACCCTTTG', 'upstream': 0, 'downstream': 23,},\n",
    "    'rseA': {'sequence': 'CGAACCCTGAGAACTTAATGTTGTCAGAAGAACTG', 'upstream': 0, 'downstream': 23,},\n",
    "    'yfiO': {'sequence': 'GGAACATTTCGGCCAAAGCCTGATCTAAGCGTTGA', 'upstream': 0, 'downstream': 23,},\n",
    "    'xerD': {'sequence': 'TGAACGCTTACCGTCGCGATCTGTCAATGATGGTG', 'upstream': 0, 'downstream': 23,},\n",
    "    'yggN': {'sequence': 'CGAACTTTTCGACGTTTGGTGGGACTAAGAAAGCA', 'upstream': 0, 'downstream': 23,},\n",
    "    'ygiM': {'sequence': 'CGAACTTAATGCGATCTTTTTTGTCAGTAGATAG', 'upstream': 0, 'downstream': 23,},\n",
    "    'bacA': {'sequence': 'TAAACCAAACGGTTATAACCTGGTCATACGCAGTA', 'upstream': 0, 'downstream': 23,},\n",
    "    'yraO': {'sequence': 'TGCACTAAATACTGATAATGTTGTCTTAACGGCG', 'upstream': 0, 'downstream': 23,},\n",
    "    'greA': {'sequence': 'GGAACTTCAGGGTAAAATGACTATCAAAATGTGAA', 'upstream': 0, 'downstream': 23,},\n",
    "    'yhbN': {'sequence': 'GAAAAGGTTAGAACATCCTATGAAATTCAAAACAAA', 'upstream': 0, 'downstream': 26,},\n",
    "    'fkpA': {'sequence': 'GAAACTAATTTAAACAAAAAGAGTCTGAAAATAGA', 'upstream': 0, 'downstream': 23,},\n",
    "    'malQ': {'sequence': 'GGAACAAGTGAAGGCAATTCTGGCCAAAGGCTA', 'upstream': 0, 'downstream': 23,},\n",
    "    'rpoH': {'sequence': 'TGAACTTGTGGATAAAATCACGGTCTGATAAAACA', 'upstream': 0, 'downstream': 23,},\n",
    "    'yhjJ': {'sequence': 'TGACATTTTCATGTTCTTGCGGTCTAACACGAA', 'upstream': 0, 'downstream': 22,},\n",
    "    'yieE': {'sequence': 'CGAACTTTTAGCCGCTTTAGTCTGTCCATCATTCCA', 'upstream': 0, 'downstream': 24,},\n",
    "    'plsB': {'sequence': 'AGAACCTTTTTACATTATGAGCGTCAATATCAGTG', 'upstream': 0, 'downstream': 23,},\n",
    "}"
   ]
  },
  {
   "cell_type": "markdown",
   "metadata": {},
   "source": [
    "### Let's look at the -35 sequence, the number of intervening nucleotides, and the -10 sequence"
   ]
  },
  {
   "cell_type": "code",
   "execution_count": 10,
   "metadata": {
    "collapsed": false
   },
   "outputs": [
    {
     "name": "stdout",
     "output_type": "stream",
     "text": [
      "rseA CGAACCC 16 TCAGA\n",
      "rpoE GGAACTT 16 TCTAA\n",
      "yraO TGCACTA 16 TCTTA\n",
      "yhbN GAAAAGG 19 TCAAA\n",
      "fkpA GAAACTA 16 TCTGA\n",
      "clpX TGAACTT 17 TCAAT\n",
      "degP GGAACTT 16 TCTGA\n",
      "yeaY GAAACTT 16 TCTTA\n",
      "ygiM CGAACTT 16 TCAGT\n",
      "yhjJ TGACATT 15 TCTAA\n",
      "plsB AGAACCT 16 TCAAT\n",
      "yieE CGAACTT 17 TCCAT\n",
      "yggN CGAACTT 16 ACTAA\n",
      "malQ GGAACAA 16 CCAAA\n",
      "yfgC GGAACGA 16 TCAAA\n",
      "rpoH TGAACTT 16 TCTGA\n",
      "ompX GAAACTC 16 TCTAA\n",
      "mdoG TGAACGA 16 TCGGA\n",
      "yfiO GGAACAT 16 TCTAA\n",
      "ybfG GGAACTT 16 TCCAT\n",
      "ddg GGAACCA 16 CCCAA\n",
      "sixA GCAACTG 16 TCAAA\n",
      "bacA TAAACCA 16 TCATA\n",
      "greA GGAACTT 16 TCAAA\n",
      "yfeK GAAACTT 16 TCAAA\n",
      "sbmA CGAACTA 16 TCACA\n",
      "rseP GGAACTA 16 TCGAA\n",
      "xerD TGAACGC 16 TCAAT\n",
      "lpp GGCACTT 16 TCAAA\n",
      "yfgM GGAACTT 16 ACAAA\n"
     ]
    }
   ],
   "source": [
    "for promoter in sigmaE_promoters:\n",
    "    # upstream element\n",
    "    u1, u2 = sigmaE_promoters[promoter]['upstream'], sigmaE_promoters[promoter]['upstream'] + 7\n",
    "    # number of intervening nucleotides\n",
    "    intervening = sigmaE_promoters[promoter]['downstream'] - sigmaE_promoters[promoter]['upstream'] - 7\n",
    "    # downstream element\n",
    "    d1, d2 = sigmaE_promoters[promoter]['downstream'], sigmaE_promoters[promoter]['downstream'] + 5\n",
    "    print(promoter,\n",
    "          sigmaE_promoters[promoter]['sequence'][u1:u2], \n",
    "          intervening,\n",
    "          sigmaE_promoters[promoter]['sequence'][d1:d2],\n",
    "         )"
   ]
  },
  {
   "cell_type": "markdown",
   "metadata": {},
   "source": [
    "##### First, let's look at the ones with 16 nt spacing and compare the conservation across the region from the -35 through the -10"
   ]
  },
  {
   "cell_type": "code",
   "execution_count": 11,
   "metadata": {
    "collapsed": false
   },
   "outputs": [],
   "source": [
    "instances = []\n",
    "for promoter in sigmaE_promoters:\n",
    "    intervening = sigmaE_promoters[promoter]['downstream'] - sigmaE_promoters[promoter]['upstream'] - 7\n",
    "    if intervening == 16:\n",
    "        instances.append(Seq(sigmaE_promoters[promoter]['sequence'][0:sigmaE_promoters[promoter]['downstream'] + 5]))"
   ]
  },
  {
   "cell_type": "code",
   "execution_count": 12,
   "metadata": {
    "collapsed": false
   },
   "outputs": [
    {
     "name": "stdout",
     "output_type": "stream",
     "text": [
      "CGAACCCTGAGAACTTAATGTTGTCAGA\n",
      "GGAACTTTACAAAAACGAGACACTCTAA\n",
      "TGCACTAAATACTGATAATGTTGTCTTA\n",
      "GAAACTAATTTAAACAAAAAGAGTCTGA\n",
      "GGAACTTCAGGCTATAAAACGAATCTGA\n",
      "GAAACTTCCGGGCAAAGAATGAATCTTA\n",
      "CGAACTTAATGCGATCTTTTTTGTCAGT\n",
      "AGAACCTTTTTACATTATGAGCGTCAAT\n",
      "CGAACTTTTCGACGTTTGGTGGGACTAA\n",
      "GGAACAAGTGAAGGCAATTCTGGCCAAA\n",
      "GGAACGATATTTCACAGTATCGGTCAAA\n",
      "TGAACTTGTGGATAAAATCACGGTCTGA\n",
      "GAAACTCTTCGCGATTTGTGATGTCTAA\n",
      "TGAACGATACCGGGATTCTGTTGTCGGA\n",
      "GGAACATTTCGGCCAAAGCCTGATCTAA\n",
      "GGAACTTAATATTTAAAAAATGTTCCAT\n",
      "GGAACCATTGTCGTACATGATGGCCCAA\n",
      "GCAACTGACCTGCAATAAGAAGGTCAAA\n",
      "TAAACCAAACGGTTATAACCTGGTCATA\n",
      "GGAACTTCAGGGTAAAATGACTATCAAA\n",
      "GAAACTTTACCTGATTCTGGCAGTCAAA\n",
      "CGAACTAAGCGCCTTGCTATGGGTCACA\n",
      "GGAACTAAAAGCCGTAGATGGTATCGAA\n",
      "TGAACGCTTACCGTCGCGATCTGTCAAT\n",
      "GGCACTTATTTTTGATCGTTCGCTCAAA\n",
      "GGAACTTGCGCAGCAATTTGTTGACAAA\n",
      "\n"
     ]
    }
   ],
   "source": [
    "m = motifs.create(instances)\n",
    "print(m)"
   ]
  },
  {
   "cell_type": "code",
   "execution_count": 13,
   "metadata": {
    "collapsed": false
   },
   "outputs": [
    {
     "data": {
      "text/plain": [
       "Seq('GGAACTTTACGAGAAAAATATGGTCAAA', IUPACUnambiguousDNA())"
      ]
     },
     "execution_count": 13,
     "metadata": {},
     "output_type": "execute_result"
    }
   ],
   "source": [
    "m.consensus"
   ]
  },
  {
   "cell_type": "code",
   "execution_count": 14,
   "metadata": {
    "collapsed": false
   },
   "outputs": [
    {
     "data": {
      "image/png": "[encoded data removed]",
      "text/plain": [
       "<IPython.core.display.Image object>"
      ]
     },
     "execution_count": 14,
     "metadata": {},
     "output_type": "execute_result"
    }
   ],
   "source": [
    "m.weblogo('sigmaE_long.png')\n",
    "from IPython.display import Image\n",
    "Image(filename='sigmaE_long.png') "
   ]
  },
  {
   "cell_type": "markdown",
   "metadata": {},
   "source": [
    "### Focus only on -35 region"
   ]
  },
  {
   "cell_type": "code",
   "execution_count": 15,
   "metadata": {
    "collapsed": false
   },
   "outputs": [
    {
     "data": {
      "text/plain": [
       "Seq('GGAACTT', IUPACUnambiguousDNA())"
      ]
     },
     "execution_count": 15,
     "metadata": {},
     "output_type": "execute_result"
    }
   ],
   "source": [
    "instances = []\n",
    "for promoter in sigmaE_promoters:\n",
    "    # upstream element\n",
    "    u1, u2 = sigmaE_promoters[promoter]['upstream'], sigmaE_promoters[promoter]['upstream'] + 7\n",
    "    instances.append(Seq(sigmaE_promoters[promoter]['sequence'][u1:u2]))\n",
    "m = motifs.create(instances)\n",
    "m.consensus"
   ]
  },
  {
   "cell_type": "code",
   "execution_count": 16,
   "metadata": {
    "collapsed": false
   },
   "outputs": [
    {
     "data": {
      "image/png": "[encoded data removed]",
      "text/plain": [
       "<IPython.core.display.Image object>"
      ]
     },
     "execution_count": 16,
     "metadata": {},
     "output_type": "execute_result"
    }
   ],
   "source": [
    "imagename = 'sigmaE_-35.png'\n",
    "m.weblogo(imagename)\n",
    "from IPython.display import Image\n",
    "Image(filename=imagename) "
   ]
  },
  {
   "cell_type": "markdown",
   "metadata": {},
   "source": [
    "### Focus on -10 region"
   ]
  },
  {
   "cell_type": "code",
   "execution_count": 17,
   "metadata": {
    "collapsed": false
   },
   "outputs": [
    {
     "data": {
      "text/plain": [
       "Seq('TCAAA', IUPACUnambiguousDNA())"
      ]
     },
     "execution_count": 17,
     "metadata": {},
     "output_type": "execute_result"
    }
   ],
   "source": [
    "instances = []\n",
    "for promoter in sigmaE_promoters:\n",
    "    # downstream element\n",
    "    d1, d2 = sigmaE_promoters[promoter]['downstream'], sigmaE_promoters[promoter]['downstream'] + 5\n",
    "    instances.append(Seq(sigmaE_promoters[promoter]['sequence'][d1:d2]))\n",
    "m = motifs.create(instances)\n",
    "m.consensus"
   ]
  },
  {
   "cell_type": "code",
   "execution_count": 18,
   "metadata": {
    "collapsed": false
   },
   "outputs": [
    {
     "data": {
      "image/png": "[encoded data removed]",
      "text/plain": [
       "<IPython.core.display.Image object>"
      ]
     },
     "execution_count": 18,
     "metadata": {},
     "output_type": "execute_result"
    }
   ],
   "source": [
    "imagename = 'sigmaE_-10.png'\n",
    "m.weblogo(imagename)\n",
    "from IPython.display import Image\n",
    "Image(filename=imagename) "
   ]
  },
  {
   "cell_type": "markdown",
   "metadata": {},
   "source": [
    "### Is there nucleotide preference in the transcriptional start site?"
   ]
  },
  {
   "cell_type": "code",
   "execution_count": 19,
   "metadata": {
    "collapsed": false
   },
   "outputs": [
    {
     "name": "stdout",
     "output_type": "stream",
     "text": [
      "ACTG\n",
      "TTTG\n",
      "GGCG\n",
      "CAAA\n",
      "TAGA\n",
      "TAGA\n",
      "ACAC\n",
      "AGTA\n",
      "ATAG\n",
      "CGAA\n",
      "AGTG\n",
      "TCCA\n",
      "AGCA\n",
      "GCTA\n",
      "ACTA\n",
      "AACA\n",
      "GCCA\n",
      "GCTG\n",
      "TTGA\n",
      "AATT\n",
      "ATTG\n",
      "TATA\n",
      "AGTA\n",
      "TGAA\n",
      "GCTA\n",
      "GGCG\n",
      "CCTG\n",
      "GGTG\n",
      "AGCA\n",
      "TGAA\n",
      "\n"
     ]
    }
   ],
   "source": [
    "instances = []\n",
    "for promoter in sigmaE_promoters:\n",
    "    instances.append(Seq(sigmaE_promoters[promoter]['sequence'][-4:]))\n",
    "m = motifs.create(instances)\n",
    "print(m)"
   ]
  },
  {
   "cell_type": "code",
   "execution_count": 20,
   "metadata": {
    "collapsed": false
   },
   "outputs": [
    {
     "data": {
      "image/png": "[encoded data removed]",
      "text/plain": [
       "<IPython.core.display.Image object>"
      ]
     },
     "execution_count": 20,
     "metadata": {},
     "output_type": "execute_result"
    }
   ],
   "source": [
    "imagename = 'sigmaE_start.png'\n",
    "m.weblogo(imagename)\n",
    "from IPython.display import Image\n",
    "Image(filename=imagename) "
   ]
  },
  {
   "cell_type": "code",
   "execution_count": null,
   "metadata": {
    "collapsed": true
   },
   "outputs": [],
   "source": []
  }
 ],
 "metadata": {
  "kernelspec": {
   "display_name": "Python 3",
   "language": "python",
   "name": "python3"
  },
  "language_info": {
   "codemirror_mode": {
    "name": "ipython",
    "version": 3
   },
   "file_extension": ".py",
   "mimetype": "text/x-python",
   "name": "python",
   "nbconvert_exporter": "python",
   "pygments_lexer": "ipython3",
   "version": "3.5.1"
  }
 },
 "nbformat": 4,
 "nbformat_minor": 0
}
